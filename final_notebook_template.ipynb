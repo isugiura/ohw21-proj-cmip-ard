{
 "cells": [
  {
   "cell_type": "markdown",
   "id": "152f6d82-6de2-4186-b131-1fe556f47f02",
   "metadata": {},
   "source": [
    "![image](https://cmip6-preprocessing.readthedocs.io/en/latest/_images/logo.png)"
   ]
  },
  {
   "cell_type": "markdown",
   "id": "e863a50e-d3a1-4182-878e-81e862c2ad4d",
   "metadata": {},
   "source": [
    "# CMIP6 analysis ready data (ARD) workflow : turning big climate projection data into useful inputs for modelling or analysis\n",
    "\n",
    "#### **Hackers**: Aditi Modi, Andrew Brettin, Denisse Fierro Arcos, Dhruv Bhagtani, Ibuki Sugiura, Noraini, Rachel Wegener, Shikha Singh, Suman Shekhar\n",
    "\n",
    "#### **Mentors**: Thomas Moore, Julius Busecke, Paige Martin"
   ]
  },
  {
   "cell_type": "markdown",
   "id": "93c77894-1bfc-4267-8e87-3d0595095413",
   "metadata": {},
   "source": [
    "<div class=\"alert alert-block alert-info\">\n",
    "<b>This notebook provides a documented example workflow of how to use the `cmip6_preprocessing` package to read in and visualize several CMIP6 ensemble members, apply a regional mask for the Arabian Sea, and generate a region-averaged timeseries in an analysis-ready and useful format.</b>\n",
    "</div>"
   ]
  },
  {
   "cell_type": "markdown",
   "id": "36c2ce4c-6bbe-4cf3-ad28-d1ab5ff4c52c",
   "metadata": {},
   "source": [
    "#### Motivation: \n",
    "The Climate Model Intercomparison Project - Phase 6 ([CMIP6](https://www.wcrp-climate.org/wgcm-cmip/wgcm-cmip6)) is a collection of global climate models and is a foundation of global climate projections, helping society better understand the choices we must either make or the impact the communities and industries of our children will face.  However there are often barriers (big data, file format, technical terminology) for new users or specific disciplines. Here, we provide an example workflow using the new [cmip6_preprocessing](https://cmip6-preprocessing.readthedocs.io/en/latest/) package.\n",
    "\n",
    "#### About `cmip6_preprocessing`\n",
    "`cmip6_preprocessing` is a python package that aims to make CMIP6 data fully analysis ready by fixing issues in a centralized, community driven code base.\n",
    "\n",
    "#### Goal of this project\n",
    "To provide an example workflow that is useful for first-time CMIP6 users that could be added to the `cmip6_preprocessing` documentation and/or the [Pangeo Gallery](https://gallery.pangeo.io)."
   ]
  },
  {
   "cell_type": "markdown",
   "id": "28e5cf4b-0fb5-42a3-8dc1-4110740dedf7",
   "metadata": {},
   "source": [
    "![](https://media.giphy.com/media/SYzDscQMN98G0LUHib/giphy.gif)"
   ]
  },
  {
   "cell_type": "markdown",
   "id": "5563080f-309d-4ebd-bb9e-c4187e9911a1",
   "metadata": {},
   "source": [
    "## Load and visualize CMIP6 multi-model ensemble"
   ]
  },
  {
   "cell_type": "code",
   "execution_count": null,
   "id": "34461cb5-f8ee-4a21-90c5-4dde660f71bd",
   "metadata": {},
   "outputs": [],
   "source": [
    "# Insert code here"
   ]
  },
  {
   "cell_type": "markdown",
   "id": "320f7b6f-7862-4a84-9c43-6d59e76b6f1b",
   "metadata": {},
   "source": [
    "## Apply regional mask and generate region-averaged timeseries with appropriate weighting"
   ]
  },
  {
   "cell_type": "code",
   "execution_count": null,
   "id": "4e766687-a3df-4baf-bd1e-5658ef9311b8",
   "metadata": {},
   "outputs": [],
   "source": [
    "# Insert code here"
   ]
  },
  {
   "cell_type": "markdown",
   "id": "c9eca40f-fd19-4328-be31-1e3beeb3533a",
   "metadata": {},
   "source": [
    "## Next steps"
   ]
  },
  {
   "cell_type": "markdown",
   "id": "5e775a0f-0383-4216-b04e-0e9fba60fb7a",
   "metadata": {},
   "source": [
    "Insert next steps here"
   ]
  }
 ],
 "metadata": {
  "kernelspec": {
   "display_name": "Python 3 (ipykernel)",
   "language": "python",
   "name": "python3"
  },
  "language_info": {
   "codemirror_mode": {
    "name": "ipython",
    "version": 3
   },
   "file_extension": ".py",
   "mimetype": "text/x-python",
   "name": "python",
   "nbconvert_exporter": "python",
   "pygments_lexer": "ipython3",
   "version": "3.9.6"
  }
 },
 "nbformat": 4,
 "nbformat_minor": 5
}
